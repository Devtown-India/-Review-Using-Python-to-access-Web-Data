{
 "cells": [
  {
   "cell_type": "markdown",
   "metadata": {},
   "source": [
    "### Regular Expressions"
   ]
  },
  {
   "cell_type": "markdown",
   "metadata": {},
   "source": [
    "In computing, a regular expression, also referred to as \"regex\" or \"regexp\", provides a concise and flexible means for matching strings of text, such as particular characters, words, or patterns of characters. A regular expression is written in a formal language that can be interpreted by a regular expression processor."
   ]
  },
  {
   "cell_type": "markdown",
   "metadata": {},
   "source": [
    "<b> Understanding Regular Expressions"
   ]
  },
  {
   "cell_type": "markdown",
   "metadata": {},
   "source": [
    "- Very powerful and quite cryptic<br>\n",
    "- Fun once you understand them<br>\n",
    "- Regular expressions are a language unto themselves<br>\n",
    "- A language of \" marker characters\" - programming with characters<br>\n",
    "- It is kind of an \"old school\" language - compact<br>"
   ]
  },
  {
   "cell_type": "markdown",
   "metadata": {},
   "source": [
    "<b> The Regular expression Module"
   ]
  },
  {
   "cell_type": "markdown",
   "metadata": {},
   "source": [
    "|SYMBOL               |DESCRIPTION                          \n",
    "|---------------------|-------------------------------------|\n",
    "| ^                   | Matches the beginning of a line     |\n",
    "|$                    | Matches the end of the line               | \n",
    "|.                    |Matches any character                      \n",
    "|\\s                   | Matches Whitespace                       | \n",
    "| \\s                  |Matches any non-whitespace character   | \n",
    "| *                   |                Repeats a character zero or more times  | \n",
    "| *?                  |  Repeats a character zero or more times (non-greedy)| \n",
    "|   +                 |           Repeats a character one or more times  | \n",
    "| +?                  |  Repeats a character one or more times(non-greedy) | \n",
    "|  [aeiou]            |Matches a single chracter in the listed set  | \n",
    "| [^XYZ]              | Matches a single character not in the isted set | \n",
    "|  [a-z0-9]           |The set of characters can include a range  | \n",
    "|  (                  | Indicates where string extraction is to start | \n",
    "| )                   |Indicates where string extraction is to end  |\n"
   ]
  },
  {
   "cell_type": "markdown",
   "metadata": {},
   "source": [
    "- Before you can use regular expressions in your program, you must import the library using \"import re\"<br>\n",
    "- You can use re.search() to see if a string matches a regular expression, similar to using the find() method for strings<br>\n",
    "- You can use re.findall() to extract portions of a string that match your regular expression, similar to a combination of find() and slicing: var[5:10]"
   ]
  },
  {
   "cell_type": "markdown",
   "metadata": {},
   "source": [
    "<b> Using re.search() Like find() and startswith()"
   ]
  },
  {
   "cell_type": "markdown",
   "metadata": {},
   "source": [
    "Using Regular Expression we can get the same output as we get using find() and startswith().hand = open(\"mbox-short.txt\")\n"
   ]
  },
  {
   "cell_type": "code",
   "execution_count": 7,
   "metadata": {},
   "outputs": [
    {
     "name": "stdout",
     "output_type": "stream",
     "text": [
      "From: stephen.marquard@uct.ac.za\n",
      "From: louis@media.berkeley.edu\n",
      "From: zqian@umich.edu\n",
      "From: rjlowe@iupui.edu\n",
      "From: zqian@umich.edu\n",
      "From: rjlowe@iupui.edu\n",
      "From: cwen@iupui.edu\n",
      "From: cwen@iupui.edu\n",
      "From: gsilver@umich.edu\n",
      "From: gsilver@umich.edu\n",
      "From: zqian@umich.edu\n",
      "From: gsilver@umich.edu\n",
      "From: wagnermr@iupui.edu\n",
      "From: zqian@umich.edu\n",
      "From: antranig@caret.cam.ac.uk\n",
      "From: gopal.ramasammycook@gmail.com\n",
      "From: david.horwitz@uct.ac.za\n",
      "From: david.horwitz@uct.ac.za\n",
      "From: david.horwitz@uct.ac.za\n",
      "From: david.horwitz@uct.ac.za\n",
      "From: stephen.marquard@uct.ac.za\n",
      "From: louis@media.berkeley.edu\n",
      "From: louis@media.berkeley.edu\n",
      "From: ray@media.berkeley.edu\n",
      "From: cwen@iupui.edu\n",
      "From: cwen@iupui.edu\n",
      "From: cwen@iupui.edu\n"
     ]
    }
   ],
   "source": [
    "hand = open(\"mbox-short.txt\")\n",
    "for line in hand:\n",
    "    line = line.rstrip()\n",
    "    if line.find('From:')>=0:\n",
    "        print(line)"
   ]
  },
  {
   "cell_type": "code",
   "execution_count": 8,
   "metadata": {},
   "outputs": [
    {
     "name": "stdout",
     "output_type": "stream",
     "text": [
      "From: stephen.marquard@uct.ac.za\n",
      "From: louis@media.berkeley.edu\n",
      "From: zqian@umich.edu\n",
      "From: rjlowe@iupui.edu\n",
      "From: zqian@umich.edu\n",
      "From: rjlowe@iupui.edu\n",
      "From: cwen@iupui.edu\n",
      "From: cwen@iupui.edu\n",
      "From: gsilver@umich.edu\n",
      "From: gsilver@umich.edu\n",
      "From: zqian@umich.edu\n",
      "From: gsilver@umich.edu\n",
      "From: wagnermr@iupui.edu\n",
      "From: zqian@umich.edu\n",
      "From: antranig@caret.cam.ac.uk\n",
      "From: gopal.ramasammycook@gmail.com\n",
      "From: david.horwitz@uct.ac.za\n",
      "From: david.horwitz@uct.ac.za\n",
      "From: david.horwitz@uct.ac.za\n",
      "From: david.horwitz@uct.ac.za\n",
      "From: stephen.marquard@uct.ac.za\n",
      "From: louis@media.berkeley.edu\n",
      "From: louis@media.berkeley.edu\n",
      "From: ray@media.berkeley.edu\n",
      "From: cwen@iupui.edu\n",
      "From: cwen@iupui.edu\n",
      "From: cwen@iupui.edu\n"
     ]
    }
   ],
   "source": [
    "hand = open(\"mbox-short.txt\")\n",
    "for line in hand:\n",
    "    line = line.rstrip()\n",
    "    if line.startswith('From:'):\n",
    "        print(line)"
   ]
  },
  {
   "cell_type": "markdown",
   "metadata": {},
   "source": [
    "<b> The above two codes give the same output as we get by using re.search()  \n",
    "    <b> Note:\n",
    "    </b> Use import re"
   ]
  },
  {
   "cell_type": "code",
   "execution_count": 9,
   "metadata": {},
   "outputs": [
    {
     "name": "stdout",
     "output_type": "stream",
     "text": [
      "From: stephen.marquard@uct.ac.za\n",
      "From: louis@media.berkeley.edu\n",
      "From: zqian@umich.edu\n",
      "From: rjlowe@iupui.edu\n",
      "From: zqian@umich.edu\n",
      "From: rjlowe@iupui.edu\n",
      "From: cwen@iupui.edu\n",
      "From: cwen@iupui.edu\n",
      "From: gsilver@umich.edu\n",
      "From: gsilver@umich.edu\n",
      "From: zqian@umich.edu\n",
      "From: gsilver@umich.edu\n",
      "From: wagnermr@iupui.edu\n",
      "From: zqian@umich.edu\n",
      "From: antranig@caret.cam.ac.uk\n",
      "From: gopal.ramasammycook@gmail.com\n",
      "From: david.horwitz@uct.ac.za\n",
      "From: david.horwitz@uct.ac.za\n",
      "From: david.horwitz@uct.ac.za\n",
      "From: david.horwitz@uct.ac.za\n",
      "From: stephen.marquard@uct.ac.za\n",
      "From: louis@media.berkeley.edu\n",
      "From: louis@media.berkeley.edu\n",
      "From: ray@media.berkeley.edu\n",
      "From: cwen@iupui.edu\n",
      "From: cwen@iupui.edu\n",
      "From: cwen@iupui.edu\n"
     ]
    }
   ],
   "source": [
    "import re\n",
    "hand = open(\"mbox-short.txt\")\n",
    "for line in hand:\n",
    "    line = line.rstrip()\n",
    "    if re.search('^From:' , line):\n",
    "        print(line)"
   ]
  },
  {
   "cell_type": "markdown",
   "metadata": {},
   "source": [
    "#### Here, ^ is a special character in the code that is used to show that you want to get first character as specified "
   ]
  },
  {
   "cell_type": "markdown",
   "metadata": {},
   "source": [
    "## Wild-Card Characters"
   ]
  },
  {
   "cell_type": "markdown",
   "metadata": {},
   "source": [
    "- The dot charater matches any character<br>\n",
    "- If you add the asterisk character, the character is \"any number of times\""
   ]
  },
  {
   "cell_type": "markdown",
   "metadata": {},
   "source": [
    "<b>Example: ^X.*:"
   ]
  },
  {
   "cell_type": "markdown",
   "metadata": {},
   "source": [
    "Here, <b> ^ </b> Matches the start of the line,<br>\n",
    "      <b> . </b> Matches any character <br>\n",
    "      <b> * </b> Many times and<br>\n",
    "      <b> : </b> Lat character in the match is a :"
   ]
  },
  {
   "cell_type": "markdown",
   "metadata": {},
   "source": [
    "## Matching and Extracting Data"
   ]
  },
  {
   "cell_type": "markdown",
   "metadata": {},
   "source": [
    "- re.search() returns a True/False depending on whether the string matches the regular expression<br>\n",
    "- If we actually want the matching strings to be extracted, we use re.findall()"
   ]
  },
  {
   "cell_type": "markdown",
   "metadata": {},
   "source": [
    "<b> Example: [-9]+"
   ]
  },
  {
   "cell_type": "code",
   "execution_count": 10,
   "metadata": {},
   "outputs": [
    {
     "name": "stdout",
     "output_type": "stream",
     "text": [
      "['2', '19', '42']\n"
     ]
    }
   ],
   "source": [
    "import re\n",
    "x= \"My 2 favourite numbers are 19 and 42\"\n",
    "y = re.findall(\"[0-9]+\",x)\n",
    "print(y)"
   ]
  },
  {
   "cell_type": "markdown",
   "metadata": {},
   "source": [
    "<b> re.findall </b> - It returns a list of zero or more sub-strings that match the regular expression"
   ]
  },
  {
   "cell_type": "code",
   "execution_count": 11,
   "metadata": {},
   "outputs": [
    {
     "name": "stdout",
     "output_type": "stream",
     "text": [
      "[]\n"
     ]
    }
   ],
   "source": [
    "import re\n",
    "x= \"My 2 favourite numbers are 19 and 42\"\n",
    "y = re.findall(\"[AEIOU]+\",x)\n",
    "print(y)"
   ]
  },
  {
   "cell_type": "markdown",
   "metadata": {},
   "source": [
    "## Warning: Greedy Matching"
   ]
  },
  {
   "cell_type": "markdown",
   "metadata": {},
   "source": [
    "The repeat characters (* and +) push outward in both direstions (greedy) to match the largest possible string"
   ]
  },
  {
   "cell_type": "markdown",
   "metadata": {},
   "source": [
    "<b> Example: ^F.+:"
   ]
  },
  {
   "cell_type": "code",
   "execution_count": 12,
   "metadata": {},
   "outputs": [
    {
     "name": "stdout",
     "output_type": "stream",
     "text": [
      "['From: Using the :']\n"
     ]
    }
   ],
   "source": [
    "import re\n",
    "x= \"From: Using the : character\"\n",
    "y = re.findall(\"^F.+:\",x)\n",
    "print(y)"
   ]
  },
  {
   "cell_type": "markdown",
   "metadata": {},
   "source": [
    "## Non-Greedy Matching"
   ]
  },
  {
   "cell_type": "markdown",
   "metadata": {},
   "source": [
    "Not all regular expressions repeat codes are greedy"
   ]
  },
  {
   "cell_type": "code",
   "execution_count": 13,
   "metadata": {},
   "outputs": [
    {
     "name": "stdout",
     "output_type": "stream",
     "text": [
      "['From:']\n"
     ]
    }
   ],
   "source": [
    "import re\n",
    "x = \"From: Using the : character\"\n",
    "y = re.findall(\"^F.+?:\",x)\n",
    "print(y)"
   ]
  },
  {
   "cell_type": "markdown",
   "metadata": {},
   "source": [
    "Here, <b> ^F </b> is the first character in the match,<br>\n",
    "<b> .+? </b> is one or more characters but not greedy and<br>\n",
    "    <b> : </b> is last character in the match"
   ]
  },
  {
   "cell_type": "markdown",
   "metadata": {},
   "source": [
    "## Fine - Tuning String Extraction"
   ]
  },
  {
   "cell_type": "markdown",
   "metadata": {},
   "source": [
    "- You can refine the match for re.findall() and separately determine which portion of the match is to be extracted by using parentheses\n",
    "- Parentheses are not part of the match - but they tell when to start and stop what string to extract."
   ]
  },
  {
   "cell_type": "code",
   "execution_count": 14,
   "metadata": {},
   "outputs": [
    {
     "name": "stdout",
     "output_type": "stream",
     "text": [
      "['stephen.marqard@utc.ac.za']\n"
     ]
    }
   ],
   "source": [
    "import re\n",
    "x = \"From stephen.marqard@utc.ac.za Sat Jan\"\n",
    "y = re.findall(\"\\S+@\\S+\",x)\n",
    "print(y)"
   ]
  },
  {
   "cell_type": "markdown",
   "metadata": {},
   "source": [
    "## The Double Split Pattern "
   ]
  },
  {
   "cell_type": "markdown",
   "metadata": {},
   "source": [
    "Sometimes we split a line one way, and then grab one of the pieces of the line and split that piece again"
   ]
  },
  {
   "cell_type": "code",
   "execution_count": 15,
   "metadata": {},
   "outputs": [
    {
     "name": "stdout",
     "output_type": "stream",
     "text": [
      "['From', 'stephen.marquard@utc.ac.za']\n"
     ]
    }
   ],
   "source": [
    "line = \"From stephen.marquard@utc.ac.za\"\n",
    "words = line.split()\n",
    "print(words)"
   ]
  },
  {
   "cell_type": "code",
   "execution_count": 16,
   "metadata": {},
   "outputs": [
    {
     "name": "stdout",
     "output_type": "stream",
     "text": [
      "stephen.marquard@utc.ac.za\n"
     ]
    }
   ],
   "source": [
    "line = \"From stephen.marquard@utc.ac.za\"\n",
    "words = line.split()\n",
    "email = words[1]\n",
    "print(email)"
   ]
  },
  {
   "cell_type": "code",
   "execution_count": 17,
   "metadata": {},
   "outputs": [
    {
     "name": "stdout",
     "output_type": "stream",
     "text": [
      "utc.ac.za\n"
     ]
    }
   ],
   "source": [
    "line = \"From stephen.marquard@utc.ac.za\"\n",
    "words = line.split()\n",
    "email = words[1]\n",
    "pieces = email.split('@')\n",
    "print(pieces[1])"
   ]
  },
  {
   "cell_type": "markdown",
   "metadata": {},
   "source": [
    "## The Regex Version of Double Split Pattern"
   ]
  },
  {
   "cell_type": "code",
   "execution_count": 18,
   "metadata": {},
   "outputs": [
    {
     "name": "stdout",
     "output_type": "stream",
     "text": [
      "['utc.ac.za']\n"
     ]
    }
   ],
   "source": [
    "import re\n",
    "line = \"From stephen.marquard@utc.ac.za Sat Jan\"\n",
    "y = re.findall(\"@([^ ]*)\",line)\n",
    "print(y)"
   ]
  },
  {
   "cell_type": "code",
   "execution_count": 19,
   "metadata": {},
   "outputs": [
    {
     "name": "stdout",
     "output_type": "stream",
     "text": [
      "['utc.ac.za']\n"
     ]
    }
   ],
   "source": [
    "import re\n",
    "line = \"From stephen.marquard@utc.ac.za Sat Jan\"\n",
    "y = re.findall(\"^From .*@([^ ]*)\",line)\n",
    "print(y)"
   ]
  },
  {
   "cell_type": "markdown",
   "metadata": {},
   "source": [
    "## Spam Confidence"
   ]
  },
  {
   "cell_type": "code",
   "execution_count": 20,
   "metadata": {},
   "outputs": [
    {
     "name": "stdout",
     "output_type": "stream",
     "text": [
      "Maximum: 0.9907\n"
     ]
    }
   ],
   "source": [
    "import re\n",
    "hand = open(\"mbox-short.txt\")\n",
    "numlist = list()\n",
    "for line in hand:\n",
    "    line = line.rstrip()\n",
    "    stuff = re.findall(\"^X-DSPAM-Confidence: ([0-9. ]+)\", line)\n",
    "    if len(stuff) != 1: \n",
    "        continue\n",
    "    num = float(stuff[0])\n",
    "    numlist.append(num)\n",
    "print('Maximum:', max(numlist))"
   ]
  },
  {
   "cell_type": "markdown",
   "metadata": {},
   "source": [
    "## Escape Character"
   ]
  },
  {
   "cell_type": "markdown",
   "metadata": {},
   "source": [
    "If you want a special regular expression character to just behave normally (most of the time) you prefix with \"\\\""
   ]
  },
  {
   "cell_type": "code",
   "execution_count": 21,
   "metadata": {},
   "outputs": [
    {
     "name": "stdout",
     "output_type": "stream",
     "text": [
      "['$10.00']\n"
     ]
    }
   ],
   "source": [
    "import re\n",
    "x = \"We just received $10.00 for cookies.\"\n",
    "y = re.findall(\"\\$[0-9.]+\",x)\n",
    "print(y)"
   ]
  },
  {
   "cell_type": "markdown",
   "metadata": {},
   "source": [
    "<b> Assignment: Finding Numbers in a Haystack</b> <br>\n",
    "\n",
    "In this assignment you will read through and parse a file with text and numbers. You will extract all the numbers in the file and compute the sum of the numbers.\n",
    "\n",
    "<b> Data Files</b> <br>\n",
    "\n",
    "We provide two files for this assignment. One is a sample file where we give you the sum for your testing and the other is the actual data you need to process for the assignment.<br>\n",
    "\n",
    "    Sample data: regex_sum_42.txt (There are 90 values with a sum=445833)\n",
    "    Actual data: regex_sum_704346.txt (There are 81 values and the sum ends with 368)\n",
    "\n",
    "These data are already in the folder. Make sure to check the file into the same folder as you will be writing your Python program.  "
   ]
  },
  {
   "cell_type": "code",
   "execution_count": 22,
   "metadata": {},
   "outputs": [
    {
     "name": "stdout",
     "output_type": "stream",
     "text": [
      "The sum for the sample text above is 445833\n",
      "\n"
     ]
    }
   ],
   "source": [
    "import re\n",
    "\n",
    "if __name__ == \"__main__\":\n",
    "    file = open(\"regex_sum_42.txt\")\n",
    "    sm = 0\n",
    "    wd = 0\n",
    "    for line in file:\n",
    "        temp = line.rstrip()\n",
    "        temp = re.findall(\"[0-9]+\", temp)\n",
    "        if len(temp) > 0:\n",
    "            for w in temp:\n",
    "                wd += 1\n",
    "                sm += int(w)\n",
    "print(\"The sum for the sample text above is %d\\n\" %sm)"
   ]
  },
  {
   "cell_type": "code",
   "execution_count": 23,
   "metadata": {},
   "outputs": [
    {
     "name": "stdout",
     "output_type": "stream",
     "text": [
      "The sum for the sample text above is 329368\n",
      "\n"
     ]
    }
   ],
   "source": [
    "import re\n",
    "\n",
    "if __name__ == \"__main__\":\n",
    "    file = open(\"regex_sum_704346.txt\")\n",
    "    sm = 0\n",
    "    wd = 0\n",
    "    for line in file:\n",
    "        temp = line.rstrip()\n",
    "        temp = re.findall(\"[0-9]+\", temp)\n",
    "        if len(temp) > 0:\n",
    "            for w in temp:\n",
    "                wd += 1\n",
    "                sm += int(w)\n",
    "print(\"The sum for the sample text above is %d\\n\" %sm)"
   ]
  }
 ],
 "metadata": {
  "kernelspec": {
   "display_name": "Python 3",
   "language": "python",
   "name": "python3"
  },
  "language_info": {
   "codemirror_mode": {
    "name": "ipython",
    "version": 3
   },
   "file_extension": ".py",
   "mimetype": "text/x-python",
   "name": "python",
   "nbconvert_exporter": "python",
   "pygments_lexer": "ipython3",
   "version": "3.8.5"
  }
 },
 "nbformat": 4,
 "nbformat_minor": 4
}
