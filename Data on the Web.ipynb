{
 "cells": [
  {
   "cell_type": "markdown",
   "metadata": {},
   "source": [
    "# Data on the Web"
   ]
  },
  {
   "cell_type": "markdown",
   "metadata": {},
   "source": [
    "There are two commonly used formats: XML and JSON"
   ]
  },
  {
   "cell_type": "markdown",
   "metadata": {},
   "source": [
    "### <b> XML - </b> eXtensible Markup Language. \n",
    "- It is mainly used in webpages, where the data has a specific structure and is understood dynamically by the XML framework.\n",
    "- XML creates a tree-like structure that is easy to interpret and supports a hierarchy. Whenever a page follows XML, it can be called an XML document. \n",
    "- XML documents have sections, called elements, defined by a beginning and an ending tag. \n",
    "- A tag is a markup construct that begins with < and ends with >. The characters between the start-tag and end-tag, if there are any, are the element's content. Elements can contain markup, including other elements, which are called \"child elements\".\n",
    "- The largest, top-level element is called the root, which contains all other elements.\n",
    "- Attributes are name–value pair that exist within a start-tag or empty-element tag. An XML attribute can only have a single value and each attribute can appear at most once on each element.\n"
   ]
  },
  {
   "cell_type": "markdown",
   "metadata": {},
   "source": [
    "## XML  \"Elements\" (or Nodes)"
   ]
  },
  {
   "cell_type": "markdown",
   "metadata": {},
   "source": [
    "- Simple Element\n",
    "- Complex Element"
   ]
  },
  {
   "cell_type": "markdown",
   "metadata": {},
   "source": [
    "+ Primary purpose is to help information systems <b> share structured data </b>\n",
    "+ It started as a simplified subset of the Standard Generalized Markup Language (SGML), and is designed to be relatively human-legible."
   ]
  },
  {
   "cell_type": "markdown",
   "metadata": {},
   "source": [
    "### XML Basics"
   ]
  },
  {
   "cell_type": "markdown",
   "metadata": {},
   "source": [
    "- Start Tag\n",
    "- End Tag\n",
    "- Text Content\n",
    "- Attribute\n",
    "- Self Closing Tag"
   ]
  },
  {
   "cell_type": "markdown",
   "metadata": {},
   "source": [
    "### White Space"
   ]
  },
  {
   "cell_type": "markdown",
   "metadata": {},
   "source": [
    "- Line ends do not matter.\n",
    "- White space is generally discarded on text elements.\n",
    "- We indent only to be redable."
   ]
  },
  {
   "cell_type": "markdown",
   "metadata": {},
   "source": [
    "### XML Terminologies"
   ]
  },
  {
   "cell_type": "markdown",
   "metadata": {},
   "source": [
    "- <b>  Tag </b> indicate the beginning and ending of elements. <br>\n",
    "- <b>  Attributes </b> Keyword/value pairs on the opening tag of XML. <br>\n",
    "- <b>  Serialize/ De-Serialize </b> Convert data in ine program into a common format that can be stored and/or transmitted between systems in a programming language-independent manner. <br>"
   ]
  },
  {
   "cell_type": "markdown",
   "metadata": {},
   "source": [
    "## XML Schema"
   ]
  },
  {
   "cell_type": "markdown",
   "metadata": {},
   "source": [
    "- Describing a \"contract as to what is acceptable XML\n",
    "- XML Schema describes the structure of an XML document.\n",
    "- Expressed in terms of constraints on the structure and content of documents.\n",
    "- Often used to specify a \"contract\" between systems-\"My system will only accept XML that conforms to this particular Schema\"\n",
    "- If a particular piece of Xml meets the specification of the Schema - it is said to \"Validate\"\n",
    "- The XML Schema language is also referred to as XML Schema Definition (XSD).\n",
    "\n",
    "- The purpose of an XML Schema is to define the legal building blocks of an XML document:<br>\n",
    "    + the elements and attributes that can appear in a document\n",
    "    + the number of (and order of) child elements\n",
    "    + data types for elements and attributes\n",
    "    + default and fixed values for elements and attributes\n"
   ]
  },
  {
   "cell_type": "markdown",
   "metadata": {},
   "source": [
    "<b> XSD - </b> XML Schema Definition <br>\n",
    "- The string data type can contain characters, line feeds, carriage returns, and tab characters.<br><br>\n",
    "- The following is an example of a string declaration in a schema:\n",
    "    + <xs:element name=\"customer\" type=\"xs:string\"/><br>\n",
    "         <customer>John Smith</customer> <br><br>\n",
    "- The following is an example of a date declaration in a schema:\n",
    "    + <xs:element name=\"start\" type=\"xs:date\"/><br>\n",
    "         <start>2002-09-24</start> <br><br> \n",
    "- The following is an example of a time declaration in a schema:\n",
    "    + <xs:element name=\"start\" type=\"xs:time\"/><br>\n",
    "         <start>09:00:00</start> <br><br>\n",
    "- The following is an example of a decimal declaration in a schema:\n",
    "    + <xs:element name=\"price\" type=\"xs:decimal\"/>   \n",
    "         <price>999.50</price>\n",
    "         <br><br>\n",
    "- The time interval is specified in the following form \"PnYnMnDTnHnMnS\" where:\n",
    "\n",
    "    + P indicates the period (required)\n",
    "    + nY indicates the number of years\n",
    "    + nM indicates the number of months\n",
    "    + nD indicates the number of days\n",
    "    + T indicates the start of a time section (required if you are going to specify hours, minutes, or seconds)\n",
    "    + nH indicates the number of hours\n",
    "    + nM indicates the number of minutes\n",
    "    + nS indicates the number of seconds <br><br>\n",
    "\n",
    "- The following is an example of a duration declaration in a schema:\n",
    "    + <xs:element name=\"period\" type=\"xs:duration\"/> <br>\n",
    "         <period>P5Y</period> <br><br>\n",
    "- The following is an example of an integer declaration in a schema:\n",
    "    + <xs:element name=\"price\" type=\"xs:integer\"/> <br>\n",
    "        <price>999</price> <br><br>"
   ]
  },
  {
   "cell_type": "markdown",
   "metadata": {},
   "source": [
    "### Extracting Data from XML"
   ]
  },
  {
   "cell_type": "markdown",
   "metadata": {},
   "source": [
    "The program will prompt for a URL, read the XML data from that URL using urllib and then parse and extract the comment counts from the XML data, compute the sum of the numbers in the file. "
   ]
  },
  {
   "cell_type": "code",
   "execution_count": 1,
   "metadata": {},
   "outputs": [
    {
     "name": "stdout",
     "output_type": "stream",
     "text": [
      "Enter location:  http://py4e-data.dr-chuck.net/comments_704350.xml\n",
      "Retrieving  http://py4e-data.dr-chuck.net/comments_704350.xml\n",
      "Retrieved 4231 characters\n",
      "Count: 50\n",
      "Sum: 2147\n"
     ]
    }
   ],
   "source": [
    "import urllib.request, urllib.parse, urllib.error\n",
    "import xml.etree.ElementTree as ET\n",
    "\n",
    "link = input('Enter location: ')\n",
    "html = urllib.request.urlopen(link).read().decode()\n",
    "print('Retrieving', link)\n",
    "print('Retrieved', len(html), 'characters')\n",
    "\n",
    "\n",
    "#data calculation\n",
    "cn = 0\n",
    "sm = 0\n",
    "data = ET.fromstring(html)\n",
    "tags = data.findall('comments/comment')\n",
    "\n",
    "for tag in tags:\n",
    "    cn += 1\n",
    "    sm += int(tag.find('count').text)\n",
    "\n",
    "    \n",
    "print('Count:', cn)\n",
    "print('Sum:', sm)"
   ]
  },
  {
   "cell_type": "markdown",
   "metadata": {},
   "source": [
    "### <b> JSON - </b> JavaScript Object Notation"
   ]
  },
  {
   "cell_type": "markdown",
   "metadata": {},
   "source": [
    "- Douglas Crockford - discovered JSON.\n",
    "- JSON is Object literal notation in JavaScript.\n",
    "- JSON is a syntax for storing and exchanging data.\n",
    "- JSON is text, written with JavaScript object notation.\n",
    "- Python has a built-in package called json, which can be used to work with JSON data.\n",
    "- JSON represents data as nested \"lists\" and \"dictionaries\".7"
   ]
  },
  {
   "cell_type": "code",
   "execution_count": 2,
   "metadata": {},
   "outputs": [],
   "source": [
    "import json "
   ]
  },
  {
   "cell_type": "markdown",
   "metadata": {},
   "source": [
    "## Parse JSON - Convert from JSON to Python"
   ]
  },
  {
   "cell_type": "markdown",
   "metadata": {},
   "source": [
    "- If you have a JSON string, you can parse it by using the json.loads() method.\n",
    "- json.load is used when loading a file while json.loads(load string) is used when loading a string."
   ]
  },
  {
   "cell_type": "code",
   "execution_count": 6,
   "metadata": {},
   "outputs": [
    {
     "name": "stdout",
     "output_type": "stream",
     "text": [
      "30\n"
     ]
    }
   ],
   "source": [
    "import json\n",
    "\n",
    "# some JSON:\n",
    "x =  '{ \"name\":\"John\", \"age\":30, \"city\":\"New York\"}'\n",
    "\n",
    "# parse x:\n",
    "y = json.loads(x)\n",
    "\n",
    "# the result is a Python dictionary:\n",
    "print(y[\"age\"]) "
   ]
  },
  {
   "cell_type": "markdown",
   "metadata": {},
   "source": [
    "## Convert from Python to JSON"
   ]
  },
  {
   "cell_type": "markdown",
   "metadata": {},
   "source": [
    "- If you have a Python object, you can convert it into a JSON string by using the json.dumps() method.\n",
    "- We use json.dump when we want to dump JSON into a file. json.dumps(dump string) is used when we need the JSON data as a string for parsing or printing."
   ]
  },
  {
   "cell_type": "code",
   "execution_count": 4,
   "metadata": {},
   "outputs": [
    {
     "name": "stdout",
     "output_type": "stream",
     "text": [
      "{\"name\": \"John\", \"age\": 30, \"city\": \"New York\"}\n"
     ]
    }
   ],
   "source": [
    "import json\n",
    "\n",
    "# a Python object (dict):\n",
    "x = {\n",
    "  \"name\": \"John\",\n",
    "  \"age\": 30,\n",
    "  \"city\": \"New York\"\n",
    "}\n",
    "\n",
    "# convert into JSON:\n",
    "y = json.dumps(x)\n",
    "\n",
    "# the result is a JSON string:\n",
    "print(y) "
   ]
  }
 ],
 "metadata": {
  "kernelspec": {
   "display_name": "Python 3",
   "language": "python",
   "name": "python3"
  },
  "language_info": {
   "codemirror_mode": {
    "name": "ipython",
    "version": 3
   },
   "file_extension": ".py",
   "mimetype": "text/x-python",
   "name": "python",
   "nbconvert_exporter": "python",
   "pygments_lexer": "ipython3",
   "version": "3.8.5"
  }
 },
 "nbformat": 4,
 "nbformat_minor": 4
}
